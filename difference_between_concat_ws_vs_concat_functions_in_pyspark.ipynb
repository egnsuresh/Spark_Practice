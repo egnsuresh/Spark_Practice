{
  "nbformat": 4,
  "nbformat_minor": 0,
  "metadata": {
    "colab": {
      "provenance": [],
      "authorship_tag": "ABX9TyO5RzL9CAG1gUrMIQxznsxO",
      "include_colab_link": true
    },
    "kernelspec": {
      "name": "python3",
      "display_name": "Python 3"
    },
    "language_info": {
      "name": "python"
    }
  },
  "cells": [
    {
      "cell_type": "markdown",
      "metadata": {
        "id": "view-in-github",
        "colab_type": "text"
      },
      "source": [
        "<a href=\"https://colab.research.google.com/github/egnsuresh/Spark_Practice/blob/master/difference_between_concat_ws_vs_concat_functions_in_pyspark.ipynb\" target=\"_parent\"><img src=\"https://colab.research.google.com/assets/colab-badge.svg\" alt=\"Open In Colab\"/></a>"
      ]
    },
    {
      "cell_type": "markdown",
      "source": [
        "\n",
        "\n",
        "---\n",
        "\n",
        "\n",
        "\n",
        "---\n",
        "\n",
        "\n",
        "\n",
        "---\n",
        "\n"
      ],
      "metadata": {
        "id": "WmWxkwTokXr-"
      }
    },
    {
      "cell_type": "markdown",
      "source": [
        "# 1. PySpark installation , spark session object creation and importing common functions.\n",
        "\n",
        "---\n",
        "\n",
        "---\n",
        "\n",
        "\n",
        "\n"
      ],
      "metadata": {
        "id": "EDs8vM2kYx0p"
      }
    },
    {
      "cell_type": "code",
      "source": [
        "!pip install pyspark"
      ],
      "metadata": {
        "id": "eymhQ33udCIj",
        "colab": {
          "base_uri": "https://localhost:8080/"
        },
        "outputId": "e38c670b-5dc2-44de-bfba-8e23ccc7460f"
      },
      "execution_count": 1,
      "outputs": [
        {
          "output_type": "stream",
          "name": "stdout",
          "text": [
            "Collecting pyspark\n",
            "  Downloading pyspark-3.5.0.tar.gz (316.9 MB)\n",
            "\u001b[2K     \u001b[90m━━━━━━━━━━━━━━━━━━━━━━━━━━━━━━━━━━━━━━━━\u001b[0m \u001b[32m316.9/316.9 MB\u001b[0m \u001b[31m4.6 MB/s\u001b[0m eta \u001b[36m0:00:00\u001b[0m\n",
            "\u001b[?25h  Preparing metadata (setup.py) ... \u001b[?25l\u001b[?25hdone\n",
            "Requirement already satisfied: py4j==0.10.9.7 in /usr/local/lib/python3.10/dist-packages (from pyspark) (0.10.9.7)\n",
            "Building wheels for collected packages: pyspark\n",
            "  Building wheel for pyspark (setup.py) ... \u001b[?25l\u001b[?25hdone\n",
            "  Created wheel for pyspark: filename=pyspark-3.5.0-py2.py3-none-any.whl size=317425345 sha256=78f82f2344498ddea20a7d3d14ae4250748676fa77db9aec7d4877cad45ba198\n",
            "  Stored in directory: /root/.cache/pip/wheels/41/4e/10/c2cf2467f71c678cfc8a6b9ac9241e5e44a01940da8fbb17fc\n",
            "Successfully built pyspark\n",
            "Installing collected packages: pyspark\n",
            "Successfully installed pyspark-3.5.0\n"
          ]
        }
      ]
    },
    {
      "cell_type": "code",
      "source": [
        "import pyspark\n",
        "spark=pyspark.sql.SparkSession.builder.getOrCreate()"
      ],
      "metadata": {
        "id": "CrUTE8u9dVj5"
      },
      "execution_count": 2,
      "outputs": []
    },
    {
      "cell_type": "code",
      "source": [
        "from pyspark.sql import functions as f"
      ],
      "metadata": {
        "id": "zVFey0z9eC3T"
      },
      "execution_count": 3,
      "outputs": []
    },
    {
      "cell_type": "markdown",
      "source": [
        "# 2. Sample data creation & Data profiling\n",
        "\n",
        "---\n",
        "\n",
        "\n",
        "---\n",
        "\n",
        "\n"
      ],
      "metadata": {
        "id": "BDW-ql6Kdtjb"
      }
    },
    {
      "cell_type": "code",
      "source": [
        "cust_df = spark.createDataFrame(\n",
        "    [(1, \"John\", \"Doe\", \"Deposit\", \"2022-03-08\", \"10:00:00\"),\n",
        "     (2, None, \"Doe\", \"Withdrawal\", \"2022-03-09\", \"11:00:00\"),\n",
        "     (3, \"Jane\", None, \"Deposit\", \"2022-03-10\", \"12:00:00\"),\n",
        "     (4, \"Jane\", \"Smith\", \"Withdrawal\", \"2022-03-11\", \"13:00:00\")]\n",
        ").toDF(\"cif\", \"first_name\", \"last_name\", \"tran_type\", \"date\", \"time\")\n",
        "cust_df.show(4,False)\n",
        "cust_df.printSchema()\n",
        "cust_df.count()"
      ],
      "metadata": {
        "colab": {
          "base_uri": "https://localhost:8080/"
        },
        "id": "aJ-dIYS3dy2J",
        "outputId": "cd9db75d-5330-4a8b-d7ab-3eefaacbc014"
      },
      "execution_count": 4,
      "outputs": [
        {
          "output_type": "stream",
          "name": "stdout",
          "text": [
            "+---+----------+---------+----------+----------+--------+\n",
            "|cif|first_name|last_name|tran_type |date      |time    |\n",
            "+---+----------+---------+----------+----------+--------+\n",
            "|1  |John      |Doe      |Deposit   |2022-03-08|10:00:00|\n",
            "|2  |NULL      |Doe      |Withdrawal|2022-03-09|11:00:00|\n",
            "|3  |Jane      |NULL     |Deposit   |2022-03-10|12:00:00|\n",
            "|4  |Jane      |Smith    |Withdrawal|2022-03-11|13:00:00|\n",
            "+---+----------+---------+----------+----------+--------+\n",
            "\n",
            "root\n",
            " |-- cif: long (nullable = true)\n",
            " |-- first_name: string (nullable = true)\n",
            " |-- last_name: string (nullable = true)\n",
            " |-- tran_type: string (nullable = true)\n",
            " |-- date: string (nullable = true)\n",
            " |-- time: string (nullable = true)\n",
            "\n"
          ]
        },
        {
          "output_type": "execute_result",
          "data": {
            "text/plain": [
              "4"
            ]
          },
          "metadata": {},
          "execution_count": 4
        }
      ]
    },
    {
      "cell_type": "markdown",
      "source": [
        "# 3. concat_ws vs concat (only differences)\n",
        "\n",
        "---\n",
        "\n",
        "\n",
        "\n",
        "---\n",
        "\n"
      ],
      "metadata": {
        "id": "t42KmPtze7d9"
      }
    },
    {
      "cell_type": "markdown",
      "source": [
        "  **what if concat function input fields has null values?**"
      ],
      "metadata": {
        "id": "fIBii2u4gy8H"
      }
    },
    {
      "cell_type": "code",
      "source": [
        "\n",
        "cust_df.withColumn(\"full_name_with_concat\", f.concat(\"first_name\", f.lit(\" \"),\"last_name\")).show(4,False)\n"
      ],
      "metadata": {
        "colab": {
          "base_uri": "https://localhost:8080/"
        },
        "id": "CcFIDteYe-nP",
        "outputId": "832ec752-bbd6-438d-9a2b-f42f7321a078"
      },
      "execution_count": 5,
      "outputs": [
        {
          "output_type": "stream",
          "name": "stdout",
          "text": [
            "+---+----------+---------+----------+----------+--------+---------------------+\n",
            "|cif|first_name|last_name|tran_type |date      |time    |full_name_with_concat|\n",
            "+---+----------+---------+----------+----------+--------+---------------------+\n",
            "|1  |John      |Doe      |Deposit   |2022-03-08|10:00:00|John Doe             |\n",
            "|2  |NULL      |Doe      |Withdrawal|2022-03-09|11:00:00|NULL                 |\n",
            "|3  |Jane      |NULL     |Deposit   |2022-03-10|12:00:00|NULL                 |\n",
            "|4  |Jane      |Smith    |Withdrawal|2022-03-11|13:00:00|Jane Smith           |\n",
            "+---+----------+---------+----------+----------+--------+---------------------+\n",
            "\n"
          ]
        }
      ]
    },
    {
      "cell_type": "code",
      "source": [
        "cust_df.withColumn(\"full_name_with_concat_ws\", f.concat_ws(\" \", \"first_name\", \"last_name\")).show(4,False)\n",
        "#syntax concat_ws(<separator ex: \" \" or \",\" or \"|\">, col1,col2..., coln)\n"
      ],
      "metadata": {
        "colab": {
          "base_uri": "https://localhost:8080/"
        },
        "id": "8LxtQcP23vDp",
        "outputId": "c0f3d535-e893-43f8-c2bd-c1a6a4794bdb"
      },
      "execution_count": 6,
      "outputs": [
        {
          "output_type": "stream",
          "name": "stdout",
          "text": [
            "+---+----------+---------+----------+----------+--------+------------------------+\n",
            "|cif|first_name|last_name|tran_type |date      |time    |full_name_with_concat_ws|\n",
            "+---+----------+---------+----------+----------+--------+------------------------+\n",
            "|1  |John      |Doe      |Deposit   |2022-03-08|10:00:00|John Doe                |\n",
            "|2  |NULL      |Doe      |Withdrawal|2022-03-09|11:00:00|Doe                     |\n",
            "|3  |Jane      |NULL     |Deposit   |2022-03-10|12:00:00|Jane                    |\n",
            "|4  |Jane      |Smith    |Withdrawal|2022-03-11|13:00:00|Jane Smith              |\n",
            "+---+----------+---------+----------+----------+--------+------------------------+\n",
            "\n"
          ]
        }
      ]
    },
    {
      "cell_type": "code",
      "source": [
        "cust_df.withColumn(\"full_name_with_concat_ws\", f.concat_ws(\",\", \"first_name\", \"last_name\")).show(4,False)\n",
        "cust_df.withColumn(\"full_name_with_concat_ws\", f.concat_ws(\"|\", \"first_name\", \"last_name\")).show(4,False)\n",
        "#syntax concat_ws(<separator ex: \" \" or \",\" or \"|\">, col1,col2..., coln)\n"
      ],
      "metadata": {
        "colab": {
          "base_uri": "https://localhost:8080/"
        },
        "id": "p-_eypoD31M9",
        "outputId": "3c8e9113-3587-4a3a-afe3-2d25b9fd892e"
      },
      "execution_count": 7,
      "outputs": [
        {
          "output_type": "stream",
          "name": "stdout",
          "text": [
            "+---+----------+---------+----------+----------+--------+------------------------+\n",
            "|cif|first_name|last_name|tran_type |date      |time    |full_name_with_concat_ws|\n",
            "+---+----------+---------+----------+----------+--------+------------------------+\n",
            "|1  |John      |Doe      |Deposit   |2022-03-08|10:00:00|John,Doe                |\n",
            "|2  |NULL      |Doe      |Withdrawal|2022-03-09|11:00:00|Doe                     |\n",
            "|3  |Jane      |NULL     |Deposit   |2022-03-10|12:00:00|Jane                    |\n",
            "|4  |Jane      |Smith    |Withdrawal|2022-03-11|13:00:00|Jane,Smith              |\n",
            "+---+----------+---------+----------+----------+--------+------------------------+\n",
            "\n",
            "+---+----------+---------+----------+----------+--------+------------------------+\n",
            "|cif|first_name|last_name|tran_type |date      |time    |full_name_with_concat_ws|\n",
            "+---+----------+---------+----------+----------+--------+------------------------+\n",
            "|1  |John      |Doe      |Deposit   |2022-03-08|10:00:00|John|Doe                |\n",
            "|2  |NULL      |Doe      |Withdrawal|2022-03-09|11:00:00|Doe                     |\n",
            "|3  |Jane      |NULL     |Deposit   |2022-03-10|12:00:00|Jane                    |\n",
            "|4  |Jane      |Smith    |Withdrawal|2022-03-11|13:00:00|Jane|Smith              |\n",
            "+---+----------+---------+----------+----------+--------+------------------------+\n",
            "\n"
          ]
        }
      ]
    },
    {
      "cell_type": "markdown",
      "source": [
        "The End\n",
        "\n",
        "---\n",
        "\n",
        "\n",
        "\n",
        "---\n",
        "\n",
        "\n",
        "\n",
        "---\n",
        "\n"
      ],
      "metadata": {
        "id": "ZHsR7wd0kHHp"
      }
    }
  ]
}