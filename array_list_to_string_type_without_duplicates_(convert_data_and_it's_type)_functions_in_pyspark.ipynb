{
  "nbformat": 4,
  "nbformat_minor": 0,
  "metadata": {
    "colab": {
      "provenance": [],
      "authorship_tag": "ABX9TyNlh01pRWhKZ3jlD8M017l8",
      "include_colab_link": true
    },
    "kernelspec": {
      "name": "python3",
      "display_name": "Python 3"
    },
    "language_info": {
      "name": "python"
    }
  },
  "cells": [
    {
      "cell_type": "markdown",
      "metadata": {
        "id": "view-in-github",
        "colab_type": "text"
      },
      "source": [
        "<a href=\"https://colab.research.google.com/github/egnsuresh/Spark_Practice/blob/master/array_list_to_string_type_without_duplicates_(convert_data_and_it's_type)_functions_in_pyspark.ipynb\" target=\"_parent\"><img src=\"https://colab.research.google.com/assets/colab-badge.svg\" alt=\"Open In Colab\"/></a>"
      ]
    },
    {
      "cell_type": "markdown",
      "source": [
        "\n",
        "\n",
        "---\n",
        "\n",
        "\n",
        "\n",
        "---\n",
        "\n",
        "\n",
        "\n",
        "---\n",
        "\n"
      ],
      "metadata": {
        "id": "WmWxkwTokXr-"
      }
    },
    {
      "cell_type": "markdown",
      "source": [
        "# 1. PySpark installation , spark session object creation and importing common functions.\n",
        "\n",
        "---\n",
        "\n",
        "---\n",
        "\n",
        "\n",
        "\n"
      ],
      "metadata": {
        "id": "EDs8vM2kYx0p"
      }
    },
    {
      "cell_type": "code",
      "source": [
        "!pip install pyspark"
      ],
      "metadata": {
        "id": "eymhQ33udCIj",
        "colab": {
          "base_uri": "https://localhost:8080/"
        },
        "outputId": "e0421289-f819-40ad-8343-879658dfdc93"
      },
      "execution_count": 3,
      "outputs": [
        {
          "output_type": "stream",
          "name": "stdout",
          "text": [
            "Collecting pyspark\n",
            "  Downloading pyspark-3.5.0.tar.gz (316.9 MB)\n",
            "\u001b[2K     \u001b[90m━━━━━━━━━━━━━━━━━━━━━━━━━━━━━━━━━━━━━━━━\u001b[0m \u001b[32m316.9/316.9 MB\u001b[0m \u001b[31m3.0 MB/s\u001b[0m eta \u001b[36m0:00:00\u001b[0m\n",
            "\u001b[?25h  Preparing metadata (setup.py) ... \u001b[?25l\u001b[?25hdone\n",
            "Requirement already satisfied: py4j==0.10.9.7 in /usr/local/lib/python3.10/dist-packages (from pyspark) (0.10.9.7)\n",
            "Building wheels for collected packages: pyspark\n",
            "  Building wheel for pyspark (setup.py) ... \u001b[?25l\u001b[?25hdone\n",
            "  Created wheel for pyspark: filename=pyspark-3.5.0-py2.py3-none-any.whl size=317425345 sha256=8367083811b6ff31bafaf49ac64eb628cb2e409e66c8f0e74610391966c49bce\n",
            "  Stored in directory: /root/.cache/pip/wheels/41/4e/10/c2cf2467f71c678cfc8a6b9ac9241e5e44a01940da8fbb17fc\n",
            "Successfully built pyspark\n",
            "Installing collected packages: pyspark\n",
            "Successfully installed pyspark-3.5.0\n"
          ]
        }
      ]
    },
    {
      "cell_type": "code",
      "source": [
        "import pyspark\n",
        "spark=pyspark.sql.SparkSession.builder.getOrCreate()"
      ],
      "metadata": {
        "id": "CrUTE8u9dVj5"
      },
      "execution_count": 4,
      "outputs": []
    },
    {
      "cell_type": "code",
      "source": [
        "from pyspark.sql import functions as f"
      ],
      "metadata": {
        "id": "zVFey0z9eC3T"
      },
      "execution_count": 5,
      "outputs": []
    },
    {
      "cell_type": "markdown",
      "source": [
        "# 2. Sample data creation & Data profiling\n",
        "\n",
        "---\n",
        "\n",
        "\n",
        "---\n",
        "\n",
        "\n"
      ],
      "metadata": {
        "id": "BDW-ql6Kdtjb"
      }
    },
    {
      "cell_type": "code",
      "source": [
        "# prompt: create sample 10 different records of dataframe with cust_name,cif,tran_type, branch_name,outlet_name,terminal_name,tran_amount and timestamp\n",
        "\n",
        "data = [('John Doe', '1234567890', 'Deposit', 'New York', 'ABC Bank outlet1', '123', 100.0, '2022-01-01'),\n",
        " ('Jane Doe', '0987654321', 'Withdrawal', 'Los Angeles', 'XYZ Bank outlet1', '456', 50.0, '2022-01-02'),\n",
        " ('Michael Jones', '2345678901', 'Transfer', 'Chicago', 'PQR Bank outlet1', '789', 25.0, '2022-01-03'),\n",
        "('Maccha Maama', '1234567890', 'Deposit', 'New York', 'ABC Bank outlet1', '123', 200.0, '2022-01-01'),\n",
        " ('Sarah Smith', '3456789012', 'Bill payment', 'Boston', 'STU Bank outlet1', '012', 15.0, '2022-01-04'),\n",
        " ('William Johnson', '4567890123', 'ATM withdrawal', 'Philadelphia', 'UVW Bank outlet1', '345', 10.0, '2022-01-05'),\n",
        " ('Mary Brown', '5678901234', 'Online purchase', 'San Francisco', 'XYZ Bank outlet1', '678', 5.0, '2022-01-06'),\n",
        " ('David Miller', '6789012345', 'ACH transfer', 'Dallas', 'ABC Bank outlet1', '901', 2.5, '2022-01-07'),\n",
        " ('Robert Anderson', '7890123456', 'Check deposit', 'Houston', 'PQR Bank outlet1', '234', 1.0, '2022-01-08'),\n",
        " ('Jessica Garcia', '8901234567', 'Money order', 'Atlanta', 'STU Bank outlet1', '567', 0.5, '2022-01-09'),\n",
        " ('Matthew Rodriguez', '9012345678', 'Payroll', 'Seattle', 'UVW Bank outlet1', '890', 0.25, '2022-01-10')]\n",
        "\n",
        "cust_df = spark.createDataFrame(data, ['cust_name', 'cif', 'tran_type', 'branch_name'\\\n",
        ", 'outlet_name', 'terminal_name', 'tran_amount', 'tran_date'])\n",
        "cust_df.show(20,False)\n",
        "cust_df.printSchema()\n",
        "cust_df.count()\n",
        "cust_df.select(\"tran_type\",\"outlet_name\").show(11,False)"
      ],
      "metadata": {
        "colab": {
          "base_uri": "https://localhost:8080/"
        },
        "id": "XOK3dhGxgCvx",
        "outputId": "74de14f8-d614-4644-bf28-f11c1384c2cf"
      },
      "execution_count": 16,
      "outputs": [
        {
          "output_type": "stream",
          "name": "stdout",
          "text": [
            "+-----------------+----------+---------------+-------------+----------------+-------------+-----------+----------+\n",
            "|cust_name        |cif       |tran_type      |branch_name  |outlet_name     |terminal_name|tran_amount|tran_date |\n",
            "+-----------------+----------+---------------+-------------+----------------+-------------+-----------+----------+\n",
            "|John Doe         |1234567890|Deposit        |New York     |ABC Bank outlet1|123          |100.0      |2022-01-01|\n",
            "|Jane Doe         |0987654321|Withdrawal     |Los Angeles  |XYZ Bank outlet1|456          |50.0       |2022-01-02|\n",
            "|Michael Jones    |2345678901|Transfer       |Chicago      |PQR Bank outlet1|789          |25.0       |2022-01-03|\n",
            "|Maccha Maama     |1234567890|Deposit        |New York     |ABC Bank outlet1|123          |200.0      |2022-01-01|\n",
            "|Sarah Smith      |3456789012|Bill payment   |Boston       |STU Bank outlet1|012          |15.0       |2022-01-04|\n",
            "|William Johnson  |4567890123|ATM withdrawal |Philadelphia |UVW Bank outlet1|345          |10.0       |2022-01-05|\n",
            "|Mary Brown       |5678901234|Online purchase|San Francisco|XYZ Bank outlet1|678          |5.0        |2022-01-06|\n",
            "|David Miller     |6789012345|ACH transfer   |Dallas       |ABC Bank outlet1|901          |2.5        |2022-01-07|\n",
            "|Robert Anderson  |7890123456|Check deposit  |Houston      |PQR Bank outlet1|234          |1.0        |2022-01-08|\n",
            "|Jessica Garcia   |8901234567|Money order    |Atlanta      |STU Bank outlet1|567          |0.5        |2022-01-09|\n",
            "|Matthew Rodriguez|9012345678|Payroll        |Seattle      |UVW Bank outlet1|890          |0.25       |2022-01-10|\n",
            "+-----------------+----------+---------------+-------------+----------------+-------------+-----------+----------+\n",
            "\n",
            "root\n",
            " |-- cust_name: string (nullable = true)\n",
            " |-- cif: string (nullable = true)\n",
            " |-- tran_type: string (nullable = true)\n",
            " |-- branch_name: string (nullable = true)\n",
            " |-- outlet_name: string (nullable = true)\n",
            " |-- terminal_name: string (nullable = true)\n",
            " |-- tran_amount: double (nullable = true)\n",
            " |-- tran_date: string (nullable = true)\n",
            "\n",
            "+---------------+----------------+\n",
            "|tran_type      |outlet_name     |\n",
            "+---------------+----------------+\n",
            "|Deposit        |ABC Bank outlet1|\n",
            "|Withdrawal     |XYZ Bank outlet1|\n",
            "|Transfer       |PQR Bank outlet1|\n",
            "|Deposit        |ABC Bank outlet1|\n",
            "|Bill payment   |STU Bank outlet1|\n",
            "|ATM withdrawal |UVW Bank outlet1|\n",
            "|Online purchase|XYZ Bank outlet1|\n",
            "|ACH transfer   |ABC Bank outlet1|\n",
            "|Check deposit  |PQR Bank outlet1|\n",
            "|Money order    |STU Bank outlet1|\n",
            "|Payroll        |UVW Bank outlet1|\n",
            "+---------------+----------------+\n",
            "\n"
          ]
        }
      ]
    },
    {
      "cell_type": "code",
      "source": [
        "#importing required window class\n",
        "from pyspark.sql.window import Window\n",
        "\n",
        "outlet_df=cust_df.withColumn(\"outlet_tran_list\"\\\n",
        "                             ,f.collect_list(\"tran_type\")\\\n",
        "                             .over(Window.partitionBy(\"outlet_name\")))\\\n",
        "                             .select(\"outlet_name\",\"outlet_tran_list\")\\\n",
        "                            .dropDuplicates()\n",
        "\n",
        "outlet_df.show(10,False)\n",
        "outlet_df.printSchema()"
      ],
      "metadata": {
        "colab": {
          "base_uri": "https://localhost:8080/"
        },
        "id": "Lt5nPBYzA-H0",
        "outputId": "d52d1659-11bd-4958-ee93-5fef2629237c"
      },
      "execution_count": 17,
      "outputs": [
        {
          "output_type": "stream",
          "name": "stdout",
          "text": [
            "+----------------+--------------------------------+\n",
            "|outlet_name     |outlet_tran_list                |\n",
            "+----------------+--------------------------------+\n",
            "|ABC Bank outlet1|[Deposit, Deposit, ACH transfer]|\n",
            "|PQR Bank outlet1|[Transfer, Check deposit]       |\n",
            "|STU Bank outlet1|[Bill payment, Money order]     |\n",
            "|UVW Bank outlet1|[ATM withdrawal, Payroll]       |\n",
            "|XYZ Bank outlet1|[Withdrawal, Online purchase]   |\n",
            "+----------------+--------------------------------+\n",
            "\n",
            "root\n",
            " |-- outlet_name: string (nullable = true)\n",
            " |-- outlet_tran_list: array (nullable = false)\n",
            " |    |-- element: string (containsNull = false)\n",
            "\n"
          ]
        }
      ]
    },
    {
      "cell_type": "markdown",
      "source": [
        "# 3. use cases of  array_distinct and concat_ws\n",
        "\n",
        "---\n",
        "\n",
        "\n",
        "\n",
        "---\n",
        "\n"
      ],
      "metadata": {
        "id": "t42KmPtze7d9"
      }
    },
    {
      "cell_type": "markdown",
      "source": [
        "<table>\n",
        "<tr>\n",
        "<td>\n",
        "<pre>\n",
        "+----------------+--------------------------------+\n",
        "|outlet_name     |outlet_tran_list                |\n",
        "+----------------+--------------------------------+\n",
        "|ABC Bank outlet1|[Deposit, Deposit, ACH transfer]|\n",
        "|PQR Bank outlet1|[Transfer, Check deposit]       |\n",
        "|STU Bank outlet1|[Bill payment, Money order]     |\n",
        "|UVW Bank outlet1|[ATM withdrawal, Payroll]       |\n",
        "|XYZ Bank outlet1|[Withdrawal, Online purchase]   |\n",
        "+----------------+--------------------------------+\n",
        "\n",
        "root\n",
        " |-- outlet_name: string (nullable = true)\n",
        " |-- outlet_tran_list: array (nullable = false)\n",
        " |    |-- element: string (containsNull = false)\n",
        "</pre>\n",
        "</td>\n",
        "\n",
        "  <td>\n",
        "  <pre>\n",
        "+----------------+----------------------------+\n",
        "|outlet_name     |outlet_tran_list_as_str_type|\n",
        "+----------------+----------------------------+\n",
        "|ABC Bank outlet1|Deposit ACH transfer        |\n",
        "|PQR Bank outlet1|Transfer Check deposit      |\n",
        "|STU Bank outlet1|Bill payment Money order    |\n",
        "|UVW Bank outlet1|ATM withdrawal Payroll      |\n",
        "|XYZ Bank outlet1|Withdrawal Online purchase  |\n",
        "+----------------+----------------------------+\n",
        "\n",
        "root\n",
        " |-- outlet_name: string (nullable = true)\n",
        " |-- outlet_tran_list_str_type: string (nullable = false)\n",
        "</pre></td>\n",
        "\n",
        "</tr></table>"
      ],
      "metadata": {
        "id": "Eg6yZSQ3GQ6U"
      }
    },
    {
      "cell_type": "markdown",
      "source": [
        "  **give me the string instead of array type without comma in the value and without duplicates?**\n"
      ],
      "metadata": {
        "id": "fIBii2u4gy8H"
      }
    },
    {
      "cell_type": "markdown",
      "source": [
        "# The point"
      ],
      "metadata": {
        "id": "NdiJXTfz_yGU"
      }
    },
    {
      "cell_type": "code",
      "source": [
        "from pyspark.sql import functions as f\n",
        "#step: 1 remove duplicates inside array (col: outlet_tran_list)\n",
        "#step: 2 array to string type conversion with delimitor change\n",
        "arr_to_str_df=outlet_df.withColumn(\"outlet_tran_list_as_str_type\"\\\n",
        "                                  ,f.concat_ws(\" \",f.array_distinct(\"outlet_tran_list\")))\n",
        "\n",
        "#finally print the result for confirmation\n",
        "arr_to_str_final_df=arr_to_str_df.select(\"outlet_name\",\"outlet_tran_list_as_str_type\")\n",
        "arr_to_str_final_df.show(10,False)\n",
        "arr_to_str_final_df.printSchema()"
      ],
      "metadata": {
        "colab": {
          "base_uri": "https://localhost:8080/"
        },
        "id": "GZ8sw4jKUv58",
        "outputId": "ddc10e96-cd13-46eb-ab86-92fe96b38155"
      },
      "execution_count": 42,
      "outputs": [
        {
          "output_type": "stream",
          "name": "stdout",
          "text": [
            "+----------------+----------------------------+\n",
            "|outlet_name     |outlet_tran_list_as_str_type|\n",
            "+----------------+----------------------------+\n",
            "|ABC Bank outlet1|Deposit ACH transfer        |\n",
            "|PQR Bank outlet1|Transfer Check deposit      |\n",
            "|STU Bank outlet1|Bill payment Money order    |\n",
            "|UVW Bank outlet1|ATM withdrawal Payroll      |\n",
            "|XYZ Bank outlet1|Withdrawal Online purchase  |\n",
            "+----------------+----------------------------+\n",
            "\n",
            "root\n",
            " |-- outlet_name: string (nullable = true)\n",
            " |-- outlet_tran_list_as_str_type: string (nullable = false)\n",
            "\n"
          ]
        }
      ]
    },
    {
      "cell_type": "markdown",
      "source": [
        "# In detail"
      ],
      "metadata": {
        "id": "ixWarsuYWsTL"
      }
    },
    {
      "cell_type": "code",
      "source": [
        "\n",
        "#step: 1 remove duplicates inside array (col: outlet_tran_list)\n",
        "outlet_df.show(10,False)\n",
        "outlet_df.printSchema()\n",
        "d_arr_df=outlet_df.withColumn(\"outlet_tran_list_with_dedup\"\\\n",
        "                                  ,f.array_distinct(\"outlet_tran_list\")).select(\"outlet_name\",\"outlet_tran_list_with_dedup\")\n",
        " #output of step 1\n",
        "d_arr_df.show(10,False)\n",
        "d_arr_df.printSchema()\n",
        "\n",
        "#step: 2 array to string type with delimitor change\n",
        "str_df=d_arr_df.withColumn(\"outlet_tran_list_as_str_type\"\\\n",
        "                             ,f.concat_ws(\" \",\"outlet_tran_list_with_dedup\")).select(\"outlet_name\",\"outlet_tran_list_as_str_type\")\n",
        "\n",
        "#final output of step 2\n",
        "str_df.show(10,False)\n",
        "str_df.printSchema()\n"
      ],
      "metadata": {
        "colab": {
          "base_uri": "https://localhost:8080/"
        },
        "id": "CcFIDteYe-nP",
        "outputId": "5877012a-951a-41d3-e29c-78f7a75425c3"
      },
      "execution_count": 43,
      "outputs": [
        {
          "output_type": "stream",
          "name": "stdout",
          "text": [
            "+----------------+--------------------------------+\n",
            "|outlet_name     |outlet_tran_list                |\n",
            "+----------------+--------------------------------+\n",
            "|ABC Bank outlet1|[Deposit, Deposit, ACH transfer]|\n",
            "|PQR Bank outlet1|[Transfer, Check deposit]       |\n",
            "|STU Bank outlet1|[Bill payment, Money order]     |\n",
            "|UVW Bank outlet1|[ATM withdrawal, Payroll]       |\n",
            "|XYZ Bank outlet1|[Withdrawal, Online purchase]   |\n",
            "+----------------+--------------------------------+\n",
            "\n",
            "root\n",
            " |-- outlet_name: string (nullable = true)\n",
            " |-- outlet_tran_list: array (nullable = false)\n",
            " |    |-- element: string (containsNull = false)\n",
            "\n",
            "+----------------+-----------------------------+\n",
            "|outlet_name     |outlet_tran_list_with_dedup  |\n",
            "+----------------+-----------------------------+\n",
            "|ABC Bank outlet1|[Deposit, ACH transfer]      |\n",
            "|PQR Bank outlet1|[Transfer, Check deposit]    |\n",
            "|STU Bank outlet1|[Bill payment, Money order]  |\n",
            "|UVW Bank outlet1|[ATM withdrawal, Payroll]    |\n",
            "|XYZ Bank outlet1|[Withdrawal, Online purchase]|\n",
            "+----------------+-----------------------------+\n",
            "\n",
            "root\n",
            " |-- outlet_name: string (nullable = true)\n",
            " |-- outlet_tran_list_with_dedup: array (nullable = false)\n",
            " |    |-- element: string (containsNull = false)\n",
            "\n",
            "+----------------+----------------------------+\n",
            "|outlet_name     |outlet_tran_list_as_str_type|\n",
            "+----------------+----------------------------+\n",
            "|ABC Bank outlet1|Deposit ACH transfer        |\n",
            "|PQR Bank outlet1|Transfer Check deposit      |\n",
            "|STU Bank outlet1|Bill payment Money order    |\n",
            "|UVW Bank outlet1|ATM withdrawal Payroll      |\n",
            "|XYZ Bank outlet1|Withdrawal Online purchase  |\n",
            "+----------------+----------------------------+\n",
            "\n",
            "root\n",
            " |-- outlet_name: string (nullable = true)\n",
            " |-- outlet_tran_list_as_str_type: string (nullable = false)\n",
            "\n"
          ]
        }
      ]
    },
    {
      "cell_type": "markdown",
      "source": [
        "# The explanation"
      ],
      "metadata": {
        "id": "GfyNG7zw_17T"
      }
    },
    {
      "cell_type": "markdown",
      "source": [
        "<table style=\"background:red; width:85%; border:1px solid black;\">\n",
        "<tr style=\"color:red\">\n",
        "  <td>1.what have u(input)</td>\n",
        "  <td>cust_df</td>\n",
        "</tr>\n",
        "<tr>\n",
        "  <td colspan=\"3\"><code>cust_df.<..></code></td>\n",
        "</tr>\n",
        "<tr>\n",
        "  <td>2.what do u want</td>\n",
        "  <td>new column as outlet_tran_list</td>\n",
        "  <td>then use withColumn</td>\n",
        "</tr>\n",
        "<tr>\n",
        "<td colspan=\"3\">cust_df<code>.withColumn(\"outlet_tran_list\",<..>)</code></code></td>\n",
        "</tr>\n",
        "<tr>\n",
        "  <td>3.What for?</td>\n",
        "  <td>to store comma separted tran_type values list</td>\n",
        "  <td>then use collect_list</td>\n",
        "</tr>\n",
        "<tr>\n",
        "  <td>4.from which column</td>\n",
        "  <td>tran_type</td>\n",
        "  <td></td>\n",
        "</tr>\n",
        "<tr>\n",
        "<td colspan=\"3\">cust_df.withColumn(\"outlet_tran_list\",<code> f.collect_list(\"tran_type\").<..>)</code></td>\n",
        "</tr>\n",
        "<tr>\n",
        "  <td>5.how u want it</td>\n",
        "  <td>for each outlet_name unique value</td>\n",
        "  <td>then use over(Window.partitionBy(\"outlet_name\")).<..></td>\n",
        "</tr>\n",
        "<tr><td colspan=\"3\">cust_df.withColumn(\"outlet_tran_list\", f.collect_list(\"tran_type\")<code>.over(Window.partitionBy(\"outlet_name\"))</code>)</td>\n",
        "<tr>\n",
        "  <td> 6.where do u want store result</td>\n",
        "  <td>outlet_df</td>\n",
        "</tr>\n",
        "<tr>\n",
        "  <td colspan=\"3\" style=\"background:red;\"><code>outlet_df=</code>cust_df.withColumn(\"outlet_tran_list\", f.collect_list(\"tran_type\").over(Window.partitionBy(\"outlet_name\")))\n",
        "  </td>\n",
        "</tr>\n",
        "</table>"
      ],
      "metadata": {
        "id": "L6eFYyjMbI6k"
      }
    },
    {
      "cell_type": "markdown",
      "source": [
        "The End\n",
        "\n",
        "---\n",
        "\n",
        "\n",
        "\n",
        "---\n",
        "\n",
        "\n",
        "\n",
        "---\n",
        "\n"
      ],
      "metadata": {
        "id": "ZHsR7wd0kHHp"
      }
    }
  ]
}