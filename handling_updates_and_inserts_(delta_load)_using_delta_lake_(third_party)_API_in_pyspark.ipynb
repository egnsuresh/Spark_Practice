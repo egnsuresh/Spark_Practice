{
  "nbformat": 4,
  "nbformat_minor": 0,
  "metadata": {
    "colab": {
      "provenance": [],
      "authorship_tag": "ABX9TyOue8Dtg13s90GqNTr9HtoF",
      "include_colab_link": true
    },
    "kernelspec": {
      "name": "python3",
      "display_name": "Python 3"
    },
    "language_info": {
      "name": "python"
    }
  },
  "cells": [
    {
      "cell_type": "markdown",
      "metadata": {
        "id": "view-in-github",
        "colab_type": "text"
      },
      "source": [
        "<a href=\"https://colab.research.google.com/github/egnsuresh/Spark_Practice/blob/master/handling_updates_and_inserts_(delta_load)_using_delta_lake_(third_party)_API_in_pyspark.ipynb\" target=\"_parent\"><img src=\"https://colab.research.google.com/assets/colab-badge.svg\" alt=\"Open In Colab\"/></a>"
      ]
    },
    {
      "cell_type": "markdown",
      "source": [
        "\n",
        "\n",
        "---\n",
        "\n",
        "\n",
        "\n",
        "---\n",
        "\n",
        "\n",
        "\n",
        "---\n",
        "\n"
      ],
      "metadata": {
        "id": "WmWxkwTokXr-"
      }
    },
    {
      "cell_type": "markdown",
      "source": [
        "# 1. PySpark installation , spark session object creation and importing common functions.\n",
        "\n",
        "---\n",
        "\n",
        "---\n",
        "\n",
        "\n",
        "\n"
      ],
      "metadata": {
        "id": "EDs8vM2kYx0p"
      }
    },
    {
      "cell_type": "code",
      "source": [
        "!pip install pyspark==3.0.0\n",
        "!pip install delta-spark==3.0.0"
      ],
      "metadata": {
        "id": "I-yzgXvSAbVQ"
      },
      "execution_count": null,
      "outputs": []
    },
    {
      "cell_type": "code",
      "source": [
        "from delta import *\n",
        "from pyspark.sql import SparkSession\n",
        "from pyspark.sql import functions as f\n",
        "\n",
        "builder = SparkSession.builder.appName(\"MyApp\") \\\n",
        "    .config(\"spark.sql.extensions\", \"io.delta.sql.DeltaSparkSessionExtension\") \\\n",
        "    .config(\"spark.sql.catalog.spark_catalog\", \"org.apache.spark.sql.delta.catalog.DeltaCatalog\")\n",
        "\n",
        "spark = configure_spark_with_delta_pip(builder).getOrCreate()\n"
      ],
      "metadata": {
        "id": "JZ14uW9CAltx"
      },
      "execution_count": 2,
      "outputs": []
    },
    {
      "cell_type": "markdown",
      "source": [
        "# 2. Sample data creation & Data profiling\n",
        "\n",
        "---\n",
        "\n",
        "\n",
        "---\n",
        "\n",
        "\n"
      ],
      "metadata": {
        "id": "BDW-ql6Kdtjb"
      }
    },
    {
      "cell_type": "code",
      "source": [
        "\n",
        "emp_df = spark.createDataFrame([(101,'Alice',10000), (102,'Bob', 20000)]\n",
        "                               , [\"emp_id\",\"name\", \"sal\"])\n",
        "emp_df.show()\n",
        "emp_df.printSchema()\n",
        "\n",
        "emp_df.write.format(\"delta\").mode(\"overwrite\").saveAsTable(\"emp_target_table\")\n",
        "\n",
        "emp_df2 = spark.createDataFrame([(101,'Alice',15000), (103,'Cob',50000)]\n",
        "                                , [\"emp_id\",\"name\", \"sal\"])\n",
        "\n",
        "emp_df2.show()\n",
        "emp_df2.printSchema()\n",
        "\n",
        "emp_df2.write.format(\"delta\").mode(\"overwrite\").saveAsTable(\"emp_delta_table\")\n"
      ],
      "metadata": {
        "colab": {
          "base_uri": "https://localhost:8080/"
        },
        "id": "ZyV0oyVUz5HF",
        "outputId": "5e93d09b-5a53-44e4-8c4e-a70e61f3e3e9"
      },
      "execution_count": 22,
      "outputs": [
        {
          "output_type": "stream",
          "name": "stdout",
          "text": [
            "+------+-----+-----+\n",
            "|emp_id| name|  sal|\n",
            "+------+-----+-----+\n",
            "|   101|Alice|10000|\n",
            "|   102|  Bob|20000|\n",
            "+------+-----+-----+\n",
            "\n",
            "root\n",
            " |-- emp_id: long (nullable = true)\n",
            " |-- name: string (nullable = true)\n",
            " |-- sal: long (nullable = true)\n",
            "\n",
            "+------+-----+-----+\n",
            "|emp_id| name|  sal|\n",
            "+------+-----+-----+\n",
            "|   101|Alice|15000|\n",
            "|   103|  Cob|50000|\n",
            "+------+-----+-----+\n",
            "\n",
            "root\n",
            " |-- emp_id: long (nullable = true)\n",
            " |-- name: string (nullable = true)\n",
            " |-- sal: long (nullable = true)\n",
            "\n"
          ]
        }
      ]
    },
    {
      "cell_type": "markdown",
      "source": [
        "# 3. handling updates and inserts (delta load) using delta lake (third-party) API\n",
        "\n",
        "---\n",
        "\n",
        "\n",
        "\n",
        "---\n",
        "\n"
      ],
      "metadata": {
        "id": "t42KmPtze7d9"
      }
    },
    {
      "cell_type": "markdown",
      "source": [
        "<table>\n",
        "<tr>\n",
        "<td>\n",
        "<pre>\n",
        "+------+-----+-----+\n",
        "|emp_id| name|  sal|\n",
        "+------+-----+-----+\n",
        "|   101|Alice|10000|\n",
        "|   102|  Bob|20000|\n",
        "+------+-----+-----+\n",
        "\n",
        "root\n",
        " |-- emp_id: long (nullable = true)\n",
        " |-- name: string (nullable = true)\n",
        " |-- sal: long (nullable = true)\n",
        "\n",
        "+------+-----+-----+\n",
        "|emp_id| name|  sal|\n",
        "+------+-----+-----+\n",
        "|   101|Alice|15000|\n",
        "|   103|  Cob|50000|\n",
        "+------+-----+-----+\n",
        "\n",
        "root\n",
        " |-- emp_id: long (nullable = true)\n",
        " |-- name: string (nullable = true)\n",
        " |-- sal: long (nullable = true)\n",
        "</pre>\n",
        "</td>\n",
        "\n",
        "  <td>\n",
        "  <pre>\n",
        "+------+-----+-----+\n",
        "|emp_id| name|  sal|\n",
        "+------+-----+-----+\n",
        "|   101|Alice|15000|\n",
        "|   103|  Cob|50000|\n",
        "|   102|  Bob|20000|\n",
        "+------+-----+-----+\n",
        "\n",
        "root\n",
        " |-- emp_id: long (nullable = true)\n",
        " |-- name: string (nullable = true)\n",
        " |-- sal: long (nullable = true)\n",
        "</pre></td>\n",
        "\n",
        "</tr></table>"
      ],
      "metadata": {
        "id": "Eg6yZSQ3GQ6U"
      }
    },
    {
      "cell_type": "markdown",
      "source": [
        "  **updat existing records and insert new records into target table**\n"
      ],
      "metadata": {
        "id": "fIBii2u4gy8H"
      }
    },
    {
      "cell_type": "markdown",
      "source": [
        "# The point"
      ],
      "metadata": {
        "id": "NdiJXTfz_yGU"
      }
    },
    {
      "cell_type": "code",
      "source": [
        "\n",
        "spark.sql(\"\"\"\n",
        "\n",
        "MERGE INTO emp_target_table\n",
        "\n",
        "USING emp_delta_table\n",
        "\n",
        "ON emp_target_table.emp_id = emp_delta_table.emp_id\n",
        "\n",
        "\n",
        "WHEN MATCHED THEN\n",
        "\n",
        "  UPDATE SET *\n",
        "\n",
        "WHEN NOT MATCHED\n",
        "  THEN INSERT *\"\"\")\n",
        "\n",
        "spark.sql(\"select * from emp_target_table\").show()\n"
      ],
      "metadata": {
        "colab": {
          "base_uri": "https://localhost:8080/"
        },
        "id": "GeacT1BNUFiT",
        "outputId": "c63ac819-e2e8-4e71-e28c-ce3bfb275aaf"
      },
      "execution_count": 20,
      "outputs": [
        {
          "output_type": "stream",
          "name": "stdout",
          "text": [
            "+------+-----+-----+\n",
            "|emp_id| name|  sal|\n",
            "+------+-----+-----+\n",
            "|   101|Alice|15000|\n",
            "|   103|  Cob|50000|\n",
            "|   102|  Bob|20000|\n",
            "+------+-----+-----+\n",
            "\n"
          ]
        }
      ]
    },
    {
      "cell_type": "markdown",
      "source": [
        "# The explanation"
      ],
      "metadata": {
        "id": "ixWarsuYWsTL"
      }
    },
    {
      "cell_type": "code",
      "source": [
        "spark.sql(\"\"\"\n",
        "\n",
        "--where to write final results/which table is base/main or table with old data\n",
        "MERGE INTO emp_target_table\n",
        "\n",
        "--delta table/table with latest data/temp table\n",
        "USING emp_delta_table\n",
        "\n",
        "--condition to compare two tables / one or more columns to compare\n",
        "ON emp_target_table.emp_id = emp_delta_table.emp_id\n",
        "\n",
        "--update all columns with latest data\n",
        "--if record exists, when we compared data with above ON condition\n",
        "WHEN MATCHED THEN\n",
        "  UPDATE SET *\n",
        "\n",
        "--Insert new records(from new table/delta) into old table(target),\n",
        "--if no match found from base table/main table\n",
        "WHEN NOT MATCHED\n",
        "  THEN INSERT *\"\"\")\n",
        "\n",
        "final_df=spark.sql(\"select * from emp_target_table\")\n",
        "final_df.show()\n",
        "final_df.printSchema()"
      ],
      "metadata": {
        "colab": {
          "base_uri": "https://localhost:8080/"
        },
        "id": "3dpl8IfJyL-P",
        "outputId": "6d7f352a-09b4-42e4-c3a7-4b897c6c1369"
      },
      "execution_count": 21,
      "outputs": [
        {
          "output_type": "stream",
          "name": "stdout",
          "text": [
            "+------+-----+-----+\n",
            "|emp_id| name|  sal|\n",
            "+------+-----+-----+\n",
            "|   101|Alice|15000|\n",
            "|   103|  Cob|50000|\n",
            "|   102|  Bob|20000|\n",
            "+------+-----+-----+\n",
            "\n",
            "root\n",
            " |-- emp_id: long (nullable = true)\n",
            " |-- name: string (nullable = true)\n",
            " |-- sal: long (nullable = true)\n",
            "\n"
          ]
        }
      ]
    },
    {
      "cell_type": "markdown",
      "source": [
        "# The explanation"
      ],
      "metadata": {
        "id": "GfyNG7zw_17T"
      }
    },
    {
      "cell_type": "markdown",
      "source": [
        "<table style=\"background:red; width:85%; border:1px solid black;\">\n",
        "<tr style=\"color:red\">\n",
        "  <td>1.what have u(input)</td>\n",
        "  <td>cust_df</td>\n",
        "</tr>\n",
        "<tr>\n",
        "  <td colspan=\"3\"><code>cust_df.<..></code></td>\n",
        "</tr>\n",
        "<tr>\n",
        "  <td>2.what do u want</td>\n",
        "  <td>new column as outlet_tran_list</td>\n",
        "  <td>then use withColumn</td>\n",
        "</tr>\n",
        "<tr>\n",
        "<td colspan=\"3\">cust_df<code>.withColumn(\"outlet_tran_list\",<..>)</code></code></td>\n",
        "</tr>\n",
        "<tr>\n",
        "  <td>3.What for?</td>\n",
        "  <td>to store comma separted tran_type values list</td>\n",
        "  <td>then use collect_list</td>\n",
        "</tr>\n",
        "<tr>\n",
        "  <td>4.from which column</td>\n",
        "  <td>tran_type</td>\n",
        "  <td></td>\n",
        "</tr>\n",
        "<tr>\n",
        "<td colspan=\"3\">cust_df.withColumn(\"outlet_tran_list\",<code> f.collect_list(\"tran_type\").<..>)</code></td>\n",
        "</tr>\n",
        "<tr>\n",
        "  <td>5.how u want it</td>\n",
        "  <td>for each outlet_name unique value</td>\n",
        "  <td>then use over(Window.partitionBy(\"outlet_name\")).<..></td>\n",
        "</tr>\n",
        "<tr><td colspan=\"3\">cust_df.withColumn(\"outlet_tran_list\", f.collect_list(\"tran_type\")<code>.over(Window.partitionBy(\"outlet_name\"))</code>)</td>\n",
        "<tr>\n",
        "  <td> 6.where do u want store result</td>\n",
        "  <td>outlet_df</td>\n",
        "</tr>\n",
        "<tr>\n",
        "  <td colspan=\"3\" style=\"background:red;\"><code>outlet_df=</code>cust_df.withColumn(\"outlet_tran_list\", f.collect_list(\"tran_type\").over(Window.partitionBy(\"outlet_name\")))\n",
        "  </td>\n",
        "</tr>\n",
        "</table>"
      ],
      "metadata": {
        "id": "L6eFYyjMbI6k"
      }
    },
    {
      "cell_type": "markdown",
      "source": [
        "The End\n",
        "\n",
        "---\n",
        "\n",
        "\n",
        "\n",
        "---\n",
        "\n",
        "\n",
        "\n",
        "---\n",
        "\n"
      ],
      "metadata": {
        "id": "ZHsR7wd0kHHp"
      }
    }
  ]
}