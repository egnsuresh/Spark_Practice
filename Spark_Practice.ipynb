{
  "nbformat": 4,
  "nbformat_minor": 0,
  "metadata": {
    "colab": {
      "name": "Spark_Practice.ipynb",
      "provenance": [],
      "collapsed_sections": [],
      "authorship_tag": "ABX9TyPR987tI2CpP2OwqjqT+4d2",
      "include_colab_link": true
    },
    "kernelspec": {
      "name": "python3",
      "display_name": "Python 3"
    }
  },
  "cells": [
    {
      "cell_type": "markdown",
      "metadata": {
        "id": "view-in-github",
        "colab_type": "text"
      },
      "source": [
        "<a href=\"https://colab.research.google.com/github/egnsuresh/Spark_Practice/blob/master/Spark_Practice.ipynb\" target=\"_parent\"><img src=\"https://colab.research.google.com/assets/colab-badge.svg\" alt=\"Open In Colab\"/></a>"
      ]
    },
    {
      "cell_type": "markdown",
      "metadata": {
        "id": "jYihRkU3eArS",
        "colab_type": "text"
      },
      "source": [
        "# Jupyter Notebook to run Spark code\n",
        "\n",
        "\n",
        "*   Step1: go to <b><a target=\"_blank\" href=\"https://colab.research.google.com\">https://colab.research.google.com</a></b> and login with google account\n",
        "*   Step2: create new notebook in colab and run the following code as per following instructions<br>\n",
        "\n",
        "  * copy and paste below code in first cell of notebook and run that cell\n",
        "  * <code>!apt-get install openjdk-8-jdk-headless -qq > /dev/null</code>\n",
        "  *   after running the above code: Java will be downloaded and installed in COLAB (this is the first requirement to start with Spark)\n",
        "  * copy and paste below code in next cell and run that cell\n",
        "  * <code> \n",
        "!wget -q https://downloads.apache.org/spark/spark-2.4.5/spark-2.4.5-bin-hadoop2.7.tgz</code>\n",
        " * above code will download the Spark into colab\n",
        " * copy and paste below code into another new cell and run\n",
        " * <code>!tar xf spark-2.4.5-bin-hadoop2.7.tgz</code>\n",
        " * above code extract the Downloaded Spark into new folder called <b>spark-2.4.5-bin-hadoop2.7</b>\n",
        " * copy and paste following code and run in another cell\n",
        " * <code>!pip install -q findspark</code>\n",
        " * above command will download the findspark and installs in colab\n",
        " * if everthing goes well then we have successfully downloaded and installed Java and Spark, next step is to set the path to start run the Spark code\n",
        "*   Path setting\n",
        " * copy and paste following lines in another cell and run\n",
        " * <code>import os<br>\n",
        "os.environ[\"JAVA_HOME\"] = \"/usr/lib/jvm/java-8-openjdk-amd64\"<br>\n",
        "os.environ[\"SPARK_HOME\"] = \"/content/spark-2.4.5-bin-hadoop2.7\"</code>\n",
        "* Creating SparkSession Object to start writing Spark Code\n",
        " * copy paste below code in another cell\n",
        " * <code>import findspark<br>\n",
        " findspark.init(\"spark-2.4.5-bin-hadoop2.7\")# SPARK_HOMEfrom pyspark.sql<br>\n",
        " import SparkSession\n",
        "from pyspark.sql import SparkSession<br>\n",
        "spark = SparkSession.builder.master(\"local[*]\").getOrCreate()</code>\n",
        "\n",
        "\n",
        "\n"
      ]
    },
    {
      "cell_type": "code",
      "metadata": {
        "id": "jr5mqNiZCoyI",
        "colab_type": "code",
        "colab": {}
      },
      "source": [
        "!apt-get install openjdk-8-jdk-headless -qq > /dev/null\n",
        "!wget -q https://downloads.apache.org/spark/spark-2.4.5/spark-2.4.5-bin-hadoop2.7.tgz\n",
        "!tar xf spark-2.4.5-bin-hadoop2.7.tgz\n",
        "\n"
      ],
      "execution_count": 0,
      "outputs": []
    },
    {
      "cell_type": "code",
      "metadata": {
        "id": "rshQ1qZ1FbD4",
        "colab_type": "code",
        "colab": {}
      },
      "source": [
        "!pip install -q findspark"
      ],
      "execution_count": 0,
      "outputs": []
    },
    {
      "cell_type": "code",
      "metadata": {
        "id": "PaNmdPOaDG0J",
        "colab_type": "code",
        "colab": {}
      },
      "source": [
        "import os\n",
        "os.environ[\"JAVA_HOME\"] = \"/usr/lib/jvm/java-8-openjdk-amd64\"\n",
        "os.environ[\"SPARK_HOME\"] = \"/content/spark-2.4.5-bin-hadoop2.7\""
      ],
      "execution_count": 0,
      "outputs": []
    },
    {
      "cell_type": "code",
      "metadata": {
        "id": "d5S1PY5NCpZI",
        "colab_type": "code",
        "colab": {}
      },
      "source": [
        "import findspark\n",
        "findspark.init(\"spark-2.4.5-bin-hadoop2.7\")# SPARK_HOMEfrom pyspark.sql import SparkSession\n",
        "from pyspark.sql import SparkSession\n",
        "spark = SparkSession.builder.master(\"local[*]\").getOrCreate()"
      ],
      "execution_count": 0,
      "outputs": []
    },
    {
      "cell_type": "code",
      "metadata": {
        "id": "HX6jEw_YCyQm",
        "colab_type": "code",
        "colab": {}
      },
      "source": [
        ""
      ],
      "execution_count": 0,
      "outputs": []
    }
  ]
}